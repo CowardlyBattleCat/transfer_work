{
 "cells": [
  {
   "cell_type": "code",
   "execution_count": 21,
   "metadata": {},
   "outputs": [
    {
     "name": "stderr",
     "output_type": "stream",
     "text": [
      "/home/cowbatcat/anaconda3/lib/python3.6/site-packages/ipykernel_launcher.py:12: FutureWarning: Sorting because non-concatenation axis is not aligned. A future version\n",
      "of pandas will change to not sort by default.\n",
      "\n",
      "To accept the future behavior, pass 'sort=False'.\n",
      "\n",
      "To retain the current behavior and silence the warning, pass 'sort=True'.\n",
      "\n",
      "  if sys.path[0] == '':\n"
     ]
    }
   ],
   "source": [
    "import pandas as pd\n",
    "dobs = pd.DataFrame({'name': ['Suzy', 'Wei','Yulia', 'Arvind'],\n",
    "                   'day': ['12', '19', '2', '23'],\n",
    "                   'month': ['Dec', 'Nov', 'May', 'Jul']})\n",
    "\n",
    "addresses = pd.DataFrame({'name': ['Marisol', 'Arvind','Stephan', 'Suzy'],\n",
    "                     'city': ['San Francisco', 'Denver', 'Austin', 'Seattle'],\n",
    "                     'state': ['CA', 'CO', 'TX', 'WA']})\n",
    "\n",
    "\n",
    "birthday_address = [dobs, addresses]\n",
    "birthday_address2 = pd.concat(birthday_address, axis=0)"
   ]
  },
  {
   "cell_type": "code",
   "execution_count": 22,
   "metadata": {},
   "outputs": [
    {
     "data": {
      "text/html": [
       "<div>\n",
       "<style scoped>\n",
       "    .dataframe tbody tr th:only-of-type {\n",
       "        vertical-align: middle;\n",
       "    }\n",
       "\n",
       "    .dataframe tbody tr th {\n",
       "        vertical-align: top;\n",
       "    }\n",
       "\n",
       "    .dataframe thead th {\n",
       "        text-align: right;\n",
       "    }\n",
       "</style>\n",
       "<table border=\"1\" class=\"dataframe\">\n",
       "  <thead>\n",
       "    <tr style=\"text-align: right;\">\n",
       "      <th></th>\n",
       "      <th>city</th>\n",
       "      <th>day</th>\n",
       "      <th>month</th>\n",
       "      <th>name</th>\n",
       "      <th>state</th>\n",
       "    </tr>\n",
       "  </thead>\n",
       "  <tbody>\n",
       "    <tr>\n",
       "      <th>0</th>\n",
       "      <td>NaN</td>\n",
       "      <td>12</td>\n",
       "      <td>Dec</td>\n",
       "      <td>Suzy</td>\n",
       "      <td>NaN</td>\n",
       "    </tr>\n",
       "    <tr>\n",
       "      <th>1</th>\n",
       "      <td>NaN</td>\n",
       "      <td>19</td>\n",
       "      <td>Nov</td>\n",
       "      <td>Wei</td>\n",
       "      <td>NaN</td>\n",
       "    </tr>\n",
       "    <tr>\n",
       "      <th>2</th>\n",
       "      <td>NaN</td>\n",
       "      <td>2</td>\n",
       "      <td>May</td>\n",
       "      <td>Yulia</td>\n",
       "      <td>NaN</td>\n",
       "    </tr>\n",
       "    <tr>\n",
       "      <th>3</th>\n",
       "      <td>NaN</td>\n",
       "      <td>23</td>\n",
       "      <td>Jul</td>\n",
       "      <td>Arvind</td>\n",
       "      <td>NaN</td>\n",
       "    </tr>\n",
       "    <tr>\n",
       "      <th>0</th>\n",
       "      <td>San Francisco</td>\n",
       "      <td>NaN</td>\n",
       "      <td>NaN</td>\n",
       "      <td>Marisol</td>\n",
       "      <td>CA</td>\n",
       "    </tr>\n",
       "    <tr>\n",
       "      <th>1</th>\n",
       "      <td>Denver</td>\n",
       "      <td>NaN</td>\n",
       "      <td>NaN</td>\n",
       "      <td>Arvind</td>\n",
       "      <td>CO</td>\n",
       "    </tr>\n",
       "    <tr>\n",
       "      <th>2</th>\n",
       "      <td>Austin</td>\n",
       "      <td>NaN</td>\n",
       "      <td>NaN</td>\n",
       "      <td>Stephan</td>\n",
       "      <td>TX</td>\n",
       "    </tr>\n",
       "    <tr>\n",
       "      <th>3</th>\n",
       "      <td>Seattle</td>\n",
       "      <td>NaN</td>\n",
       "      <td>NaN</td>\n",
       "      <td>Suzy</td>\n",
       "      <td>WA</td>\n",
       "    </tr>\n",
       "  </tbody>\n",
       "</table>\n",
       "</div>"
      ],
      "text/plain": [
       "            city  day month     name state\n",
       "0            NaN   12   Dec     Suzy   NaN\n",
       "1            NaN   19   Nov      Wei   NaN\n",
       "2            NaN    2   May    Yulia   NaN\n",
       "3            NaN   23   Jul   Arvind   NaN\n",
       "0  San Francisco  NaN   NaN  Marisol    CA\n",
       "1         Denver  NaN   NaN   Arvind    CO\n",
       "2         Austin  NaN   NaN  Stephan    TX\n",
       "3        Seattle  NaN   NaN     Suzy    WA"
      ]
     },
     "execution_count": 22,
     "metadata": {},
     "output_type": "execute_result"
    }
   ],
   "source": [
    "birthday_address2"
   ]
  },
  {
   "cell_type": "code",
   "execution_count": 24,
   "metadata": {},
   "outputs": [],
   "source": [
    "import numpy as np"
   ]
  },
  {
   "cell_type": "code",
   "execution_count": 25,
   "metadata": {},
   "outputs": [],
   "source": [
    "grocery = pd.DataFrame({'category':['produce', 'produce', 'meat',\n",
    "                                        'meat', 'meat', 'cheese', 'cheese'],\n",
    "                            'item':['celery', 'apple', 'ham', 'turkey',\n",
    "                                    'lamb', 'cheddar', 'brie'],\n",
    "                            'price':[.99, .49, 1.89, 4.34, 9.50, 6.25, 8.0]})"
   ]
  },
  {
   "cell_type": "code",
   "execution_count": 27,
   "metadata": {},
   "outputs": [
    {
     "data": {
      "text/plain": [
       "<pandas.core.groupby.groupby.DataFrameGroupBy object at 0x7fe8318c7be0>"
      ]
     },
     "execution_count": 27,
     "metadata": {},
     "output_type": "execute_result"
    }
   ],
   "source": [
    "grocery.groupby('category')"
   ]
  },
  {
   "cell_type": "code",
   "execution_count": 28,
   "metadata": {},
   "outputs": [
    {
     "data": {
      "text/html": [
       "<div>\n",
       "<style scoped>\n",
       "    .dataframe tbody tr th:only-of-type {\n",
       "        vertical-align: middle;\n",
       "    }\n",
       "\n",
       "    .dataframe tbody tr th {\n",
       "        vertical-align: top;\n",
       "    }\n",
       "\n",
       "    .dataframe thead th {\n",
       "        text-align: right;\n",
       "    }\n",
       "</style>\n",
       "<table border=\"1\" class=\"dataframe\">\n",
       "  <thead>\n",
       "    <tr style=\"text-align: right;\">\n",
       "      <th></th>\n",
       "      <th>price</th>\n",
       "    </tr>\n",
       "    <tr>\n",
       "      <th>category</th>\n",
       "      <th></th>\n",
       "    </tr>\n",
       "  </thead>\n",
       "  <tbody>\n",
       "    <tr>\n",
       "      <th>cheese</th>\n",
       "      <td>7.125000</td>\n",
       "    </tr>\n",
       "    <tr>\n",
       "      <th>meat</th>\n",
       "      <td>5.243333</td>\n",
       "    </tr>\n",
       "    <tr>\n",
       "      <th>produce</th>\n",
       "      <td>0.740000</td>\n",
       "    </tr>\n",
       "  </tbody>\n",
       "</table>\n",
       "</div>"
      ],
      "text/plain": [
       "             price\n",
       "category          \n",
       "cheese    7.125000\n",
       "meat      5.243333\n",
       "produce   0.740000"
      ]
     },
     "execution_count": 28,
     "metadata": {},
     "output_type": "execute_result"
    }
   ],
   "source": [
    "grouped = grocery.groupby('category')\n",
    "grouped.aggregate(np.mean)\n",
    "\n",
    "# Category becomes the index of the above output"
   ]
  },
  {
   "cell_type": "code",
   "execution_count": 29,
   "metadata": {},
   "outputs": [
    {
     "data": {
      "text/html": [
       "<div>\n",
       "<style scoped>\n",
       "    .dataframe tbody tr th:only-of-type {\n",
       "        vertical-align: middle;\n",
       "    }\n",
       "\n",
       "    .dataframe tbody tr th {\n",
       "        vertical-align: top;\n",
       "    }\n",
       "\n",
       "    .dataframe thead th {\n",
       "        text-align: right;\n",
       "    }\n",
       "</style>\n",
       "<table border=\"1\" class=\"dataframe\">\n",
       "  <thead>\n",
       "    <tr style=\"text-align: right;\">\n",
       "      <th></th>\n",
       "      <th>price</th>\n",
       "    </tr>\n",
       "  </thead>\n",
       "  <tbody>\n",
       "    <tr>\n",
       "      <th>0</th>\n",
       "      <td>0.250000</td>\n",
       "    </tr>\n",
       "    <tr>\n",
       "      <th>1</th>\n",
       "      <td>-0.250000</td>\n",
       "    </tr>\n",
       "    <tr>\n",
       "      <th>2</th>\n",
       "      <td>-3.353333</td>\n",
       "    </tr>\n",
       "    <tr>\n",
       "      <th>3</th>\n",
       "      <td>-0.903333</td>\n",
       "    </tr>\n",
       "    <tr>\n",
       "      <th>4</th>\n",
       "      <td>4.256667</td>\n",
       "    </tr>\n",
       "    <tr>\n",
       "      <th>5</th>\n",
       "      <td>-0.875000</td>\n",
       "    </tr>\n",
       "    <tr>\n",
       "      <th>6</th>\n",
       "      <td>0.875000</td>\n",
       "    </tr>\n",
       "  </tbody>\n",
       "</table>\n",
       "</div>"
      ],
      "text/plain": [
       "      price\n",
       "0  0.250000\n",
       "1 -0.250000\n",
       "2 -3.353333\n",
       "3 -0.903333\n",
       "4  4.256667\n",
       "5 -0.875000\n",
       "6  0.875000"
      ]
     },
     "execution_count": 29,
     "metadata": {},
     "output_type": "execute_result"
    }
   ],
   "source": [
    "grouped.transform(lambda x: x - x.mean())\n",
    "\n",
    "# Notice index is the same as original grocery data."
   ]
  },
  {
   "cell_type": "code",
   "execution_count": 30,
   "metadata": {},
   "outputs": [
    {
     "data": {
      "text/html": [
       "<div>\n",
       "<style scoped>\n",
       "    .dataframe tbody tr th:only-of-type {\n",
       "        vertical-align: middle;\n",
       "    }\n",
       "\n",
       "    .dataframe tbody tr th {\n",
       "        vertical-align: top;\n",
       "    }\n",
       "\n",
       "    .dataframe thead th {\n",
       "        text-align: right;\n",
       "    }\n",
       "</style>\n",
       "<table border=\"1\" class=\"dataframe\">\n",
       "  <thead>\n",
       "    <tr style=\"text-align: right;\">\n",
       "      <th></th>\n",
       "      <th>category</th>\n",
       "      <th>item</th>\n",
       "      <th>price</th>\n",
       "    </tr>\n",
       "  </thead>\n",
       "  <tbody>\n",
       "    <tr>\n",
       "      <th>2</th>\n",
       "      <td>meat</td>\n",
       "      <td>ham</td>\n",
       "      <td>1.89</td>\n",
       "    </tr>\n",
       "    <tr>\n",
       "      <th>3</th>\n",
       "      <td>meat</td>\n",
       "      <td>turkey</td>\n",
       "      <td>4.34</td>\n",
       "    </tr>\n",
       "    <tr>\n",
       "      <th>4</th>\n",
       "      <td>meat</td>\n",
       "      <td>lamb</td>\n",
       "      <td>9.50</td>\n",
       "    </tr>\n",
       "  </tbody>\n",
       "</table>\n",
       "</div>"
      ],
      "text/plain": [
       "  category    item  price\n",
       "2     meat     ham   1.89\n",
       "3     meat  turkey   4.34\n",
       "4     meat    lamb   9.50"
      ]
     },
     "execution_count": 30,
     "metadata": {},
     "output_type": "execute_result"
    }
   ],
   "source": [
    "grouped.filter(lambda x: len(x)>2)\n",
    "\n",
    "# Notice index is a subset of original data."
   ]
  },
  {
   "cell_type": "code",
   "execution_count": 32,
   "metadata": {},
   "outputs": [
    {
     "data": {
      "text/html": [
       "<div>\n",
       "<style scoped>\n",
       "    .dataframe tbody tr th:only-of-type {\n",
       "        vertical-align: middle;\n",
       "    }\n",
       "\n",
       "    .dataframe tbody tr th {\n",
       "        vertical-align: top;\n",
       "    }\n",
       "\n",
       "    .dataframe thead th {\n",
       "        text-align: right;\n",
       "    }\n",
       "</style>\n",
       "<table border=\"1\" class=\"dataframe\">\n",
       "  <thead>\n",
       "    <tr style=\"text-align: right;\">\n",
       "      <th></th>\n",
       "      <th>category</th>\n",
       "      <th>item</th>\n",
       "      <th>price</th>\n",
       "    </tr>\n",
       "  </thead>\n",
       "  <tbody>\n",
       "    <tr>\n",
       "      <th>2</th>\n",
       "      <td>meat</td>\n",
       "      <td>ham</td>\n",
       "      <td>1.89</td>\n",
       "    </tr>\n",
       "    <tr>\n",
       "      <th>3</th>\n",
       "      <td>meat</td>\n",
       "      <td>turkey</td>\n",
       "      <td>4.34</td>\n",
       "    </tr>\n",
       "    <tr>\n",
       "      <th>4</th>\n",
       "      <td>meat</td>\n",
       "      <td>lamb</td>\n",
       "      <td>9.50</td>\n",
       "    </tr>\n",
       "    <tr>\n",
       "      <th>5</th>\n",
       "      <td>cheese</td>\n",
       "      <td>cheddar</td>\n",
       "      <td>6.25</td>\n",
       "    </tr>\n",
       "    <tr>\n",
       "      <th>6</th>\n",
       "      <td>cheese</td>\n",
       "      <td>brie</td>\n",
       "      <td>8.00</td>\n",
       "    </tr>\n",
       "  </tbody>\n",
       "</table>\n",
       "</div>"
      ],
      "text/plain": [
       "  category     item  price\n",
       "2     meat      ham   1.89\n",
       "3     meat   turkey   4.34\n",
       "4     meat     lamb   9.50\n",
       "5   cheese  cheddar   6.25\n",
       "6   cheese     brie   8.00"
      ]
     },
     "execution_count": 32,
     "metadata": {},
     "output_type": "execute_result"
    }
   ],
   "source": [
    "import pandas as pd\n",
    "import numpy as np\n",
    "\n",
    "grocery = pd.DataFrame({'category':['produce', 'produce', 'meat',\n",
    "                                    'meat', 'meat', 'cheese', 'cheese'],\n",
    "                        'item':['celery', 'apple', 'ham', 'turkey',  'lamb',\n",
    "                                'cheddar', 'brie'],\n",
    "                        'price':[.99, .49, 1.89, 4.34, 9.50, 6.25, 8.0]})\n",
    "\n",
    "grouped = grocery.groupby('category')\n",
    "grouped.filter(lambda x: np.mean(x)>=3)"
   ]
  },
  {
   "cell_type": "code",
   "execution_count": 34,
   "metadata": {},
   "outputs": [
    {
     "data": {
      "text/html": [
       "<div>\n",
       "<style scoped>\n",
       "    .dataframe tbody tr th:only-of-type {\n",
       "        vertical-align: middle;\n",
       "    }\n",
       "\n",
       "    .dataframe tbody tr th {\n",
       "        vertical-align: top;\n",
       "    }\n",
       "\n",
       "    .dataframe thead th {\n",
       "        text-align: right;\n",
       "    }\n",
       "</style>\n",
       "<table border=\"1\" class=\"dataframe\">\n",
       "  <thead>\n",
       "    <tr style=\"text-align: right;\">\n",
       "      <th></th>\n",
       "      <th>item</th>\n",
       "      <th>price</th>\n",
       "    </tr>\n",
       "    <tr>\n",
       "      <th>category</th>\n",
       "      <th></th>\n",
       "      <th></th>\n",
       "    </tr>\n",
       "  </thead>\n",
       "  <tbody>\n",
       "    <tr>\n",
       "      <th>cheese</th>\n",
       "      <td>cheddar</td>\n",
       "      <td>8.00</td>\n",
       "    </tr>\n",
       "    <tr>\n",
       "      <th>meat</th>\n",
       "      <td>turkey</td>\n",
       "      <td>9.50</td>\n",
       "    </tr>\n",
       "    <tr>\n",
       "      <th>produce</th>\n",
       "      <td>celery</td>\n",
       "      <td>0.99</td>\n",
       "    </tr>\n",
       "  </tbody>\n",
       "</table>\n",
       "</div>"
      ],
      "text/plain": [
       "             item  price\n",
       "category                \n",
       "cheese    cheddar   8.00\n",
       "meat       turkey   9.50\n",
       "produce    celery   0.99"
      ]
     },
     "execution_count": 34,
     "metadata": {},
     "output_type": "execute_result"
    }
   ],
   "source": [
    "grouped.aggregate(np.max)"
   ]
  },
  {
   "cell_type": "code",
   "execution_count": 40,
   "metadata": {},
   "outputs": [],
   "source": [
    "grouped_price = grocery.groupby('category')['price']"
   ]
  },
  {
   "cell_type": "code",
   "execution_count": 43,
   "metadata": {},
   "outputs": [
    {
     "data": {
      "text/plain": [
       "0    0.990\n",
       "1    0.490\n",
       "2    1.701\n",
       "3    3.906\n",
       "4    8.550\n",
       "5    5.625\n",
       "6    7.200\n",
       "Name: price, dtype: float64"
      ]
     },
     "execution_count": 43,
     "metadata": {},
     "output_type": "execute_result"
    }
   ],
   "source": [
    "grouped_price.transform(lambda x: x*.9 if np.max(x)>3 else x)"
   ]
  },
  {
   "cell_type": "code",
   "execution_count": 45,
   "metadata": {},
   "outputs": [
    {
     "data": {
      "text/html": [
       "<div>\n",
       "<style scoped>\n",
       "    .dataframe tbody tr th:only-of-type {\n",
       "        vertical-align: middle;\n",
       "    }\n",
       "\n",
       "    .dataframe tbody tr th {\n",
       "        vertical-align: top;\n",
       "    }\n",
       "\n",
       "    .dataframe thead th {\n",
       "        text-align: right;\n",
       "    }\n",
       "</style>\n",
       "<table border=\"1\" class=\"dataframe\">\n",
       "  <thead>\n",
       "    <tr style=\"text-align: right;\">\n",
       "      <th></th>\n",
       "      <th>price</th>\n",
       "    </tr>\n",
       "  </thead>\n",
       "  <tbody>\n",
       "    <tr>\n",
       "      <th>0</th>\n",
       "      <td>0.990</td>\n",
       "    </tr>\n",
       "    <tr>\n",
       "      <th>1</th>\n",
       "      <td>0.490</td>\n",
       "    </tr>\n",
       "    <tr>\n",
       "      <th>2</th>\n",
       "      <td>1.701</td>\n",
       "    </tr>\n",
       "    <tr>\n",
       "      <th>3</th>\n",
       "      <td>3.906</td>\n",
       "    </tr>\n",
       "    <tr>\n",
       "      <th>4</th>\n",
       "      <td>8.550</td>\n",
       "    </tr>\n",
       "    <tr>\n",
       "      <th>5</th>\n",
       "      <td>5.625</td>\n",
       "    </tr>\n",
       "    <tr>\n",
       "      <th>6</th>\n",
       "      <td>7.200</td>\n",
       "    </tr>\n",
       "  </tbody>\n",
       "</table>\n",
       "</div>"
      ],
      "text/plain": [
       "   price\n",
       "0  0.990\n",
       "1  0.490\n",
       "2  1.701\n",
       "3  3.906\n",
       "4  8.550\n",
       "5  5.625\n",
       "6  7.200"
      ]
     },
     "execution_count": 45,
     "metadata": {},
     "output_type": "execute_result"
    }
   ],
   "source": [
    "grouped.transform(lambda x: x*.9 if np.max(x)>3 else x)"
   ]
  },
  {
   "cell_type": "markdown",
   "metadata": {},
   "source": [
    "A common task faced by data scientists involves identifying a company's most valuable customers. This usually involves aggregating each customer's purchase history.\n",
    "\n",
    "Assume that you are working with two DataFrames: `customers`, and `orders`. The `customers` DataFrame contains a unique `customer_id` for each customer and other relevant info like name and email address. `orders` contains an `order_id`, the `customer_id` of the person who placed the order, and the the `order_total` in dollars.\n",
    "\n",
    "Fill in the Pandas code below to create a new DataFrame, `customer_spend`, that contains the following columns in this order: `customer_id`, `name`, and `total_spend`. `total_spend` is a new column containing the sum of the cost of all the orders that a particular customer placed. Note that this is likely to take a few steps!\n",
    "\n",
    "Hint: The column you groupby is not included as a column in the output DataFrame, but as its index. If you then try to merge on that column (which isn't there), Pandas looks for it and can't find it. A handy way to get around this type of problem is the .reset_index() method, which was mentioned towards the end of Pandas Lesson 4 on split-apply-combine.\n"
   ]
  },
  {
   "cell_type": "code",
   "execution_count": 94,
   "metadata": {},
   "outputs": [
    {
     "data": {
      "text/html": [
       "<div>\n",
       "<style scoped>\n",
       "    .dataframe tbody tr th:only-of-type {\n",
       "        vertical-align: middle;\n",
       "    }\n",
       "\n",
       "    .dataframe tbody tr th {\n",
       "        vertical-align: top;\n",
       "    }\n",
       "\n",
       "    .dataframe thead th {\n",
       "        text-align: right;\n",
       "    }\n",
       "</style>\n",
       "<table border=\"1\" class=\"dataframe\">\n",
       "  <thead>\n",
       "    <tr style=\"text-align: right;\">\n",
       "      <th></th>\n",
       "      <th>customer_id</th>\n",
       "      <th>name</th>\n",
       "      <th>total_spend</th>\n",
       "    </tr>\n",
       "  </thead>\n",
       "  <tbody>\n",
       "    <tr>\n",
       "      <th>0</th>\n",
       "      <td>100</td>\n",
       "      <td>Prometheus Barwis</td>\n",
       "      <td>1211.84</td>\n",
       "    </tr>\n",
       "    <tr>\n",
       "      <th>1</th>\n",
       "      <td>101</td>\n",
       "      <td>Alain Hennesey</td>\n",
       "      <td>602.42</td>\n",
       "    </tr>\n",
       "    <tr>\n",
       "      <th>2</th>\n",
       "      <td>102</td>\n",
       "      <td>Chao Peachy</td>\n",
       "      <td>786.80</td>\n",
       "    </tr>\n",
       "    <tr>\n",
       "      <th>3</th>\n",
       "      <td>103</td>\n",
       "      <td>Somtochukwu Mouritsen</td>\n",
       "      <td>961.96</td>\n",
       "    </tr>\n",
       "    <tr>\n",
       "      <th>4</th>\n",
       "      <td>104</td>\n",
       "      <td>Elisabeth Berry</td>\n",
       "      <td>651.22</td>\n",
       "    </tr>\n",
       "  </tbody>\n",
       "</table>\n",
       "</div>"
      ],
      "text/plain": [
       "   customer_id                   name  total_spend\n",
       "0          100      Prometheus Barwis      1211.84\n",
       "1          101         Alain Hennesey       602.42\n",
       "2          102            Chao Peachy       786.80\n",
       "3          103  Somtochukwu Mouritsen       961.96\n",
       "4          104        Elisabeth Berry       651.22"
      ]
     },
     "execution_count": 94,
     "metadata": {},
     "output_type": "execute_result"
    }
   ],
   "source": [
    "import pandas as pd\n",
    "import numpy as np\n",
    "\n",
    "customers = pd.DataFrame([[100, 'Prometheus Barwis', 'prometheus.barwis@me.com',\n",
    "        '(533) 072-2779'],[101, 'Alain Hennesey', 'alain.hennesey@facebook.com',\n",
    "        '(942) 208-8460'],[102, 'Chao Peachy', 'chao.peachy@me.com',\n",
    "        '(510) 121-0098'],[103, 'Somtochukwu Mouritsen',\n",
    "        'somtochukwu.mouritsen@me.com','(669) 504-8080'],[104,\n",
    "        'Elisabeth Berry', 'elisabeth.berry@facebook.com','(802) 973-8267']],\n",
    "        columns = ['customer_id', 'name', 'email', 'phone'])\n",
    "\n",
    "orders = pd.DataFrame([[1000, 100, 144.82], [1001, 100, 140.93],\n",
    "       [1002, 102, 104.26], [1003, 100, 194.6 ], [1004, 100, 307.72],\n",
    "       [1005, 101,  36.69], [1006, 104,  39.59], [1007, 104, 430.94],\n",
    "       [1008, 103,  31.4 ], [1009, 104, 180.69], [1010, 102, 383.35],\n",
    "       [1011, 101, 256.2 ], [1012, 103, 930.56], [1013, 100, 423.77],\n",
    "       [1014, 101, 309.53], [1015, 102, 299.19]],\n",
    "       columns = ['order_id', 'customer_id', 'order_total'])\n",
    "\n",
    "# Combine and aggregate the above DataFrames according to the instructions.\n",
    "# Feel free to use multiple steps.\n",
    "\n",
    "customers_orders = pd.merge(customers, orders, on='customer_id', how='outer')\n",
    "grouped_customers_orders = customers_orders.groupby('customer_id')\n",
    "name = grouped_customers_orders['name'].aggregate(pd.Series.mode)\n",
    "total_spend = grouped_customers_orders['order_total'].aggregate(np.sum)\n",
    "\n",
    "# Learn will check the contents/column names of the customer_spend object.\n",
    "customer_spend_index = pd.DataFrame({'name': name, 'total_spend': total_spend})\n",
    "customer_spend = customer_spend_index.reset_index()\n",
    "customer_spend"
   ]
  },
  {
   "cell_type": "code",
   "execution_count": null,
   "metadata": {},
   "outputs": [],
   "source": []
  },
  {
   "cell_type": "code",
   "execution_count": null,
   "metadata": {},
   "outputs": [],
   "source": []
  },
  {
   "cell_type": "code",
   "execution_count": null,
   "metadata": {},
   "outputs": [],
   "source": []
  },
  {
   "cell_type": "code",
   "execution_count": null,
   "metadata": {},
   "outputs": [],
   "source": []
  },
  {
   "cell_type": "code",
   "execution_count": 54,
   "metadata": {},
   "outputs": [
    {
     "data": {
      "text/html": [
       "<div>\n",
       "<style scoped>\n",
       "    .dataframe tbody tr th:only-of-type {\n",
       "        vertical-align: middle;\n",
       "    }\n",
       "\n",
       "    .dataframe tbody tr th {\n",
       "        vertical-align: top;\n",
       "    }\n",
       "\n",
       "    .dataframe thead th {\n",
       "        text-align: right;\n",
       "    }\n",
       "</style>\n",
       "<table border=\"1\" class=\"dataframe\">\n",
       "  <thead>\n",
       "    <tr style=\"text-align: right;\">\n",
       "      <th></th>\n",
       "      <th>customer_id</th>\n",
       "      <th>name</th>\n",
       "      <th>email</th>\n",
       "      <th>phone</th>\n",
       "      <th>order_id</th>\n",
       "      <th>order_total</th>\n",
       "    </tr>\n",
       "  </thead>\n",
       "  <tbody>\n",
       "    <tr>\n",
       "      <th>0</th>\n",
       "      <td>100</td>\n",
       "      <td>Prometheus Barwis</td>\n",
       "      <td>prometheus.barwis@me.com</td>\n",
       "      <td>(533) 072-2779</td>\n",
       "      <td>1000</td>\n",
       "      <td>144.82</td>\n",
       "    </tr>\n",
       "    <tr>\n",
       "      <th>1</th>\n",
       "      <td>100</td>\n",
       "      <td>Prometheus Barwis</td>\n",
       "      <td>prometheus.barwis@me.com</td>\n",
       "      <td>(533) 072-2779</td>\n",
       "      <td>1001</td>\n",
       "      <td>140.93</td>\n",
       "    </tr>\n",
       "    <tr>\n",
       "      <th>2</th>\n",
       "      <td>100</td>\n",
       "      <td>Prometheus Barwis</td>\n",
       "      <td>prometheus.barwis@me.com</td>\n",
       "      <td>(533) 072-2779</td>\n",
       "      <td>1003</td>\n",
       "      <td>194.60</td>\n",
       "    </tr>\n",
       "    <tr>\n",
       "      <th>3</th>\n",
       "      <td>100</td>\n",
       "      <td>Prometheus Barwis</td>\n",
       "      <td>prometheus.barwis@me.com</td>\n",
       "      <td>(533) 072-2779</td>\n",
       "      <td>1004</td>\n",
       "      <td>307.72</td>\n",
       "    </tr>\n",
       "    <tr>\n",
       "      <th>4</th>\n",
       "      <td>100</td>\n",
       "      <td>Prometheus Barwis</td>\n",
       "      <td>prometheus.barwis@me.com</td>\n",
       "      <td>(533) 072-2779</td>\n",
       "      <td>1013</td>\n",
       "      <td>423.77</td>\n",
       "    </tr>\n",
       "    <tr>\n",
       "      <th>5</th>\n",
       "      <td>101</td>\n",
       "      <td>Alain Hennesey</td>\n",
       "      <td>alain.hennesey@facebook.com</td>\n",
       "      <td>(942) 208-8460</td>\n",
       "      <td>1005</td>\n",
       "      <td>36.69</td>\n",
       "    </tr>\n",
       "    <tr>\n",
       "      <th>6</th>\n",
       "      <td>101</td>\n",
       "      <td>Alain Hennesey</td>\n",
       "      <td>alain.hennesey@facebook.com</td>\n",
       "      <td>(942) 208-8460</td>\n",
       "      <td>1011</td>\n",
       "      <td>256.20</td>\n",
       "    </tr>\n",
       "    <tr>\n",
       "      <th>7</th>\n",
       "      <td>101</td>\n",
       "      <td>Alain Hennesey</td>\n",
       "      <td>alain.hennesey@facebook.com</td>\n",
       "      <td>(942) 208-8460</td>\n",
       "      <td>1014</td>\n",
       "      <td>309.53</td>\n",
       "    </tr>\n",
       "    <tr>\n",
       "      <th>8</th>\n",
       "      <td>102</td>\n",
       "      <td>Chao Peachy</td>\n",
       "      <td>chao.peachy@me.com</td>\n",
       "      <td>(510) 121-0098</td>\n",
       "      <td>1002</td>\n",
       "      <td>104.26</td>\n",
       "    </tr>\n",
       "    <tr>\n",
       "      <th>9</th>\n",
       "      <td>102</td>\n",
       "      <td>Chao Peachy</td>\n",
       "      <td>chao.peachy@me.com</td>\n",
       "      <td>(510) 121-0098</td>\n",
       "      <td>1010</td>\n",
       "      <td>383.35</td>\n",
       "    </tr>\n",
       "    <tr>\n",
       "      <th>10</th>\n",
       "      <td>102</td>\n",
       "      <td>Chao Peachy</td>\n",
       "      <td>chao.peachy@me.com</td>\n",
       "      <td>(510) 121-0098</td>\n",
       "      <td>1015</td>\n",
       "      <td>299.19</td>\n",
       "    </tr>\n",
       "    <tr>\n",
       "      <th>11</th>\n",
       "      <td>103</td>\n",
       "      <td>Somtochukwu Mouritsen</td>\n",
       "      <td>somtochukwu.mouritsen@me.com</td>\n",
       "      <td>(669) 504-8080</td>\n",
       "      <td>1008</td>\n",
       "      <td>31.40</td>\n",
       "    </tr>\n",
       "    <tr>\n",
       "      <th>12</th>\n",
       "      <td>103</td>\n",
       "      <td>Somtochukwu Mouritsen</td>\n",
       "      <td>somtochukwu.mouritsen@me.com</td>\n",
       "      <td>(669) 504-8080</td>\n",
       "      <td>1012</td>\n",
       "      <td>930.56</td>\n",
       "    </tr>\n",
       "    <tr>\n",
       "      <th>13</th>\n",
       "      <td>104</td>\n",
       "      <td>Elisabeth Berry</td>\n",
       "      <td>elisabeth.berry@facebook.com</td>\n",
       "      <td>(802) 973-8267</td>\n",
       "      <td>1006</td>\n",
       "      <td>39.59</td>\n",
       "    </tr>\n",
       "    <tr>\n",
       "      <th>14</th>\n",
       "      <td>104</td>\n",
       "      <td>Elisabeth Berry</td>\n",
       "      <td>elisabeth.berry@facebook.com</td>\n",
       "      <td>(802) 973-8267</td>\n",
       "      <td>1007</td>\n",
       "      <td>430.94</td>\n",
       "    </tr>\n",
       "    <tr>\n",
       "      <th>15</th>\n",
       "      <td>104</td>\n",
       "      <td>Elisabeth Berry</td>\n",
       "      <td>elisabeth.berry@facebook.com</td>\n",
       "      <td>(802) 973-8267</td>\n",
       "      <td>1009</td>\n",
       "      <td>180.69</td>\n",
       "    </tr>\n",
       "  </tbody>\n",
       "</table>\n",
       "</div>"
      ],
      "text/plain": [
       "    customer_id                   name                         email  \\\n",
       "0           100      Prometheus Barwis      prometheus.barwis@me.com   \n",
       "1           100      Prometheus Barwis      prometheus.barwis@me.com   \n",
       "2           100      Prometheus Barwis      prometheus.barwis@me.com   \n",
       "3           100      Prometheus Barwis      prometheus.barwis@me.com   \n",
       "4           100      Prometheus Barwis      prometheus.barwis@me.com   \n",
       "5           101         Alain Hennesey   alain.hennesey@facebook.com   \n",
       "6           101         Alain Hennesey   alain.hennesey@facebook.com   \n",
       "7           101         Alain Hennesey   alain.hennesey@facebook.com   \n",
       "8           102            Chao Peachy            chao.peachy@me.com   \n",
       "9           102            Chao Peachy            chao.peachy@me.com   \n",
       "10          102            Chao Peachy            chao.peachy@me.com   \n",
       "11          103  Somtochukwu Mouritsen  somtochukwu.mouritsen@me.com   \n",
       "12          103  Somtochukwu Mouritsen  somtochukwu.mouritsen@me.com   \n",
       "13          104        Elisabeth Berry  elisabeth.berry@facebook.com   \n",
       "14          104        Elisabeth Berry  elisabeth.berry@facebook.com   \n",
       "15          104        Elisabeth Berry  elisabeth.berry@facebook.com   \n",
       "\n",
       "             phone  order_id  order_total  \n",
       "0   (533) 072-2779      1000       144.82  \n",
       "1   (533) 072-2779      1001       140.93  \n",
       "2   (533) 072-2779      1003       194.60  \n",
       "3   (533) 072-2779      1004       307.72  \n",
       "4   (533) 072-2779      1013       423.77  \n",
       "5   (942) 208-8460      1005        36.69  \n",
       "6   (942) 208-8460      1011       256.20  \n",
       "7   (942) 208-8460      1014       309.53  \n",
       "8   (510) 121-0098      1002       104.26  \n",
       "9   (510) 121-0098      1010       383.35  \n",
       "10  (510) 121-0098      1015       299.19  \n",
       "11  (669) 504-8080      1008        31.40  \n",
       "12  (669) 504-8080      1012       930.56  \n",
       "13  (802) 973-8267      1006        39.59  \n",
       "14  (802) 973-8267      1007       430.94  \n",
       "15  (802) 973-8267      1009       180.69  "
      ]
     },
     "execution_count": 54,
     "metadata": {},
     "output_type": "execute_result"
    }
   ],
   "source": [
    "customers_orders = pd.merge(customers, orders, on='customer_id', how='outer')\n",
    "customers_orders"
   ]
  },
  {
   "cell_type": "code",
   "execution_count": 55,
   "metadata": {},
   "outputs": [
    {
     "data": {
      "text/plain": [
       "<pandas.core.groupby.groupby.DataFrameGroupBy object at 0x7fe82d73b080>"
      ]
     },
     "execution_count": 55,
     "metadata": {},
     "output_type": "execute_result"
    }
   ],
   "source": [
    "grouped_customers_orders = customers_orders.groupby('customer_id')\n",
    "grouped_customers_orders"
   ]
  },
  {
   "cell_type": "code",
   "execution_count": 74,
   "metadata": {},
   "outputs": [
    {
     "data": {
      "text/plain": [
       "customer_id\n",
       "100    1211.84\n",
       "101     602.42\n",
       "102     786.80\n",
       "103     961.96\n",
       "104     651.22\n",
       "Name: order_total, dtype: float64"
      ]
     },
     "execution_count": 74,
     "metadata": {},
     "output_type": "execute_result"
    }
   ],
   "source": [
    "total_spend = grouped_customers_orders['order_total'].aggregate(np.sum)\n",
    "total_spend"
   ]
  },
  {
   "cell_type": "code",
   "execution_count": 61,
   "metadata": {},
   "outputs": [
    {
     "data": {
      "text/plain": [
       "4214.24"
      ]
     },
     "execution_count": 61,
     "metadata": {},
     "output_type": "execute_result"
    }
   ],
   "source": [
    "customers_orders['order_total'].sum()"
   ]
  },
  {
   "cell_type": "code",
   "execution_count": 89,
   "metadata": {},
   "outputs": [
    {
     "data": {
      "text/plain": [
       "customer_id\n",
       "100        Prometheus Barwis\n",
       "101           Alain Hennesey\n",
       "102              Chao Peachy\n",
       "103    Somtochukwu Mouritsen\n",
       "104          Elisabeth Berry\n",
       "Name: name, dtype: object"
      ]
     },
     "execution_count": 89,
     "metadata": {},
     "output_type": "execute_result"
    }
   ],
   "source": [
    "name = grouped_customers_orders['name'].aggregate(pd.Series.mode)\n",
    "name"
   ]
  },
  {
   "cell_type": "code",
   "execution_count": 95,
   "metadata": {},
   "outputs": [
    {
     "data": {
      "text/plain": [
       "customer_id\n",
       "100        Prometheus Barwis\n",
       "101           Alain Hennesey\n",
       "102              Chao Peachy\n",
       "103    Somtochukwu Mouritsen\n",
       "104          Elisabeth Berry\n",
       "Name: name, dtype: object"
      ]
     },
     "execution_count": 95,
     "metadata": {},
     "output_type": "execute_result"
    }
   ],
   "source": [
    "name = grouped_customers_orders['name'].aggregate(pd.Series.mode)\n",
    "name"
   ]
  },
  {
   "cell_type": "code",
   "execution_count": null,
   "metadata": {},
   "outputs": [],
   "source": []
  },
  {
   "cell_type": "code",
   "execution_count": 83,
   "metadata": {},
   "outputs": [],
   "source": [
    "customer_spend = pd.DataFrame({'name': grouped_customers_orders['name'].aggregate(pd.Series.mode), \n",
    "                               'total_spend': grouped_customers_orders['order_total'].aggregate(np.sum)}).reset_index()"
   ]
  },
  {
   "cell_type": "code",
   "execution_count": 90,
   "metadata": {},
   "outputs": [],
   "source": [
    "customer_spend = pd.DataFrame({'name': name, 'total_spend': total_spend}).reset_index()"
   ]
  },
  {
   "cell_type": "code",
   "execution_count": 91,
   "metadata": {},
   "outputs": [
    {
     "data": {
      "text/html": [
       "<div>\n",
       "<style scoped>\n",
       "    .dataframe tbody tr th:only-of-type {\n",
       "        vertical-align: middle;\n",
       "    }\n",
       "\n",
       "    .dataframe tbody tr th {\n",
       "        vertical-align: top;\n",
       "    }\n",
       "\n",
       "    .dataframe thead th {\n",
       "        text-align: right;\n",
       "    }\n",
       "</style>\n",
       "<table border=\"1\" class=\"dataframe\">\n",
       "  <thead>\n",
       "    <tr style=\"text-align: right;\">\n",
       "      <th></th>\n",
       "      <th>customer_id</th>\n",
       "      <th>name</th>\n",
       "      <th>total_spend</th>\n",
       "    </tr>\n",
       "  </thead>\n",
       "  <tbody>\n",
       "    <tr>\n",
       "      <th>0</th>\n",
       "      <td>100</td>\n",
       "      <td>Prometheus Barwis</td>\n",
       "      <td>1211.84</td>\n",
       "    </tr>\n",
       "    <tr>\n",
       "      <th>1</th>\n",
       "      <td>101</td>\n",
       "      <td>Alain Hennesey</td>\n",
       "      <td>602.42</td>\n",
       "    </tr>\n",
       "    <tr>\n",
       "      <th>2</th>\n",
       "      <td>102</td>\n",
       "      <td>Chao Peachy</td>\n",
       "      <td>786.80</td>\n",
       "    </tr>\n",
       "    <tr>\n",
       "      <th>3</th>\n",
       "      <td>103</td>\n",
       "      <td>Somtochukwu Mouritsen</td>\n",
       "      <td>961.96</td>\n",
       "    </tr>\n",
       "    <tr>\n",
       "      <th>4</th>\n",
       "      <td>104</td>\n",
       "      <td>Elisabeth Berry</td>\n",
       "      <td>651.22</td>\n",
       "    </tr>\n",
       "  </tbody>\n",
       "</table>\n",
       "</div>"
      ],
      "text/plain": [
       "   customer_id                   name  total_spend\n",
       "0          100      Prometheus Barwis      1211.84\n",
       "1          101         Alain Hennesey       602.42\n",
       "2          102            Chao Peachy       786.80\n",
       "3          103  Somtochukwu Mouritsen       961.96\n",
       "4          104        Elisabeth Berry       651.22"
      ]
     },
     "execution_count": 91,
     "metadata": {},
     "output_type": "execute_result"
    }
   ],
   "source": [
    "customer_spend"
   ]
  },
  {
   "cell_type": "code",
   "execution_count": null,
   "metadata": {},
   "outputs": [],
   "source": [
    "df[\"responseCount\"] = (df.groupby(\"item\")[\"response\"]\n",
    "                        .transform(lambda x: x.value_counts().index[0]))\n",
    "\n",
    "print (df)\n",
    "   item response responseCount\n",
    "0     1        A             A\n",
    "1     1        A             A\n",
    "2     1        B             A\n",
    "3     2        C             C\n",
    "4     2        C             C"
   ]
  },
  {
   "cell_type": "code",
   "execution_count": 97,
   "metadata": {},
   "outputs": [
    {
     "data": {
      "text/plain": [
       "customer_id\n",
       "100        Prometheus Barwis\n",
       "101           Alain Hennesey\n",
       "102              Chao Peachy\n",
       "103    Somtochukwu Mouritsen\n",
       "104          Elisabeth Berry\n",
       "Name: name, dtype: object"
      ]
     },
     "execution_count": 97,
     "metadata": {},
     "output_type": "execute_result"
    }
   ],
   "source": [
    "name = grouped_customers_orders['name'].aggregate(lambda x: x.value_counts().index[0])\n",
    "name"
   ]
  },
  {
   "cell_type": "code",
   "execution_count": 99,
   "metadata": {},
   "outputs": [],
   "source": [
    "import pandas as pd\n",
    "import numpy as np\n",
    "\n",
    "customers = pd.DataFrame([[100, 'Prometheus Barwis', 'prometheus.barwis@me.com',\n",
    "        '(533) 072-2779'],[101, 'Alain Hennesey', 'alain.hennesey@facebook.com',\n",
    "        '(942) 208-8460'],[102, 'Chao Peachy', 'chao.peachy@me.com',\n",
    "        '(510) 121-0098'],[103, 'Somtochukwu Mouritsen',\n",
    "        'somtochukwu.mouritsen@me.com','(669) 504-8080'],[104,\n",
    "        'Elisabeth Berry', 'elisabeth.berry@facebook.com','(802) 973-8267']],\n",
    "        columns = ['customer_id', 'name', 'email', 'phone'])\n",
    "\n",
    "orders = pd.DataFrame([[1000, 100, 144.82], [1001, 100, 140.93],\n",
    "       [1002, 102, 104.26], [1003, 100, 194.6 ], [1004, 100, 307.72],\n",
    "       [1005, 101,  36.69], [1006, 104,  39.59], [1007, 104, 430.94],\n",
    "       [1008, 103,  31.4 ], [1009, 104, 180.69], [1010, 102, 383.35],\n",
    "       [1011, 101, 256.2 ], [1012, 103, 930.56], [1013, 100, 423.77],\n",
    "       [1014, 101, 309.53], [1015, 102, 299.19]],\n",
    "       columns = ['order_id', 'customer_id', 'order_total'])\n",
    "\n",
    "# Combine and aggregate the above DataFrames according to the instructions.\n",
    "# Feel free to use multiple steps.\n",
    "\n",
    "customers_orders = pd.merge(customers, orders, on='customer_id', how='outer')\n",
    "grouped_customers_orders = customers_orders.groupby('customer_id')\n",
    "name = grouped_customers_orders['name'].aggregate(lambda x: x.value_counts().index[0])\n",
    "total_spend = grouped_customers_orders['order_total'].aggregate(np.sum)\n",
    "\n",
    "# Learn will check the contents/column names of the customer_spend object.\n",
    "customer_spend = pd.DataFrame({'name': name, 'total_spend': total_spend}).reset_index()\n"
   ]
  },
  {
   "cell_type": "markdown",
   "metadata": {},
   "source": [
    "Pandas is very useful for performing exploratory data analysis (EDA). One important component of EDA is visualization, so Pandas Series and DataFrame objects include some methods for plotting.\n",
    "\n",
    "Fill in the function below, according to its docstring, to return a Pandas object for plotting a histogram. (The histogram won't actually be displayed.) Note, we are not asking you to do all the work necessary to make a histogram yourself. Rather, we want to see you leverage Pandas' ability to make histograms easily--the answer may be shorter than you think!\n"
   ]
  },
  {
   "cell_type": "code",
   "execution_count": null,
   "metadata": {},
   "outputs": [],
   "source": [
    "def df_histogram(df, colname, num_bins = 10):\n",
    "  \"\"\"\n",
    "  Given a Pandas DataFrame, df, return a histogram plotting object for the\n",
    "  data in the column, specified by colname. Optionally specify the number\n",
    "  of bins in the histogram with num_bins.\n",
    "\n",
    "  Parameters\n",
    "  ----------\n",
    "  df: (Pandas DataFrame).\n",
    "  colname: (str) name of column in df to be plotted.\n",
    "  num_bins: (int) number of bins to include in the histogram plot.\n",
    "\n",
    "  Returns\n",
    "  -------\n",
    "  (Pandas/Matplotlib plot object)\n",
    "  \"\"\"\n",
    "\n",
    "    return df['colname'].plot(type=hist)"
   ]
  },
  {
   "cell_type": "code",
   "execution_count": null,
   "metadata": {},
   "outputs": [],
   "source": []
  },
  {
   "cell_type": "code",
   "execution_count": 100,
   "metadata": {},
   "outputs": [
    {
     "ename": "NameError",
     "evalue": "name 'NaN' is not defined",
     "output_type": "error",
     "traceback": [
      "\u001b[0;31m---------------------------------------------------------------------------\u001b[0m",
      "\u001b[0;31mNameError\u001b[0m                                 Traceback (most recent call last)",
      "\u001b[0;32m<ipython-input-100-795440e42cfa>\u001b[0m in \u001b[0;36m<module>\u001b[0;34m()\u001b[0m\n\u001b[0;32m----> 1\u001b[0;31m \u001b[0mtype\u001b[0m\u001b[0;34m(\u001b[0m\u001b[0mNaN\u001b[0m\u001b[0;34m)\u001b[0m\u001b[0;34m\u001b[0m\u001b[0m\n\u001b[0m",
      "\u001b[0;31mNameError\u001b[0m: name 'NaN' is not defined"
     ]
    }
   ],
   "source": [
    "type(NaN)"
   ]
  },
  {
   "cell_type": "code",
   "execution_count": 206,
   "metadata": {},
   "outputs": [],
   "source": [
    "df = pd.DataFrame({'a':[0,10,None,30], 'b':[None,100,1000,10000], 'c':[1,2,3,4]})\n"
   ]
  },
  {
   "cell_type": "code",
   "execution_count": 207,
   "metadata": {},
   "outputs": [],
   "source": [
    "import pandas as pd\n",
    "\n",
    "def replace_missing(df, replace_method = 'mean'):\n",
    "    \"\"\"\n",
    "    Given a DataFrame, df, any fields that are null (represented in Pandas\n",
    "    with NaN) will be replaced using the method specified in replace_method.\n",
    "\n",
    "    Parameters\n",
    "    ----------\n",
    "    df: (Pandas DataFrame).\n",
    "\n",
    "    replace_method: (variable type) 'mean', 'median', 0, -1, 9999999, etc.\n",
    "        If 'mean'/'median': replace each missing value with the mean/median\n",
    "                            value of its column.\n",
    "        If other: any other value will be taken to be a replacement *value*\n",
    "                  and inserted for the missing values.\n",
    "\n",
    "    Returns\n",
    "    -------\n",
    "    df: (Pandas DataFrame)\n",
    "    \"\"\"\n",
    "    df_nan = df.copy()\n",
    "    for column in df_nan:\n",
    "        df_nan[column] = pd.to_numeric(df_nan[column], errors = 'coerce')\n",
    "    if (replace_method == 'mean' or replace_method == 'median'):\n",
    "        values = {}\n",
    "        if replace_method == 'mean':\n",
    "            for column in df_nan:\n",
    "                values[column] = df_nan[column].mean()\n",
    "        else:\n",
    "            for column in df_nan:\n",
    "                values[column] = df_nan[column].median()\n",
    "        df_nan = df_nan.fillna(value=values, inplace=True)\n",
    "        return df_nan\n",
    "    else:\n",
    "        df_nan.fillna(replace_method, inplace=True)\n",
    "    return df_nan"
   ]
  },
  {
   "cell_type": "code",
   "execution_count": 217,
   "metadata": {},
   "outputs": [],
   "source": [
    "df = pd.DataFrame({'a':[0,10,None,30], 'b':[None,100,1000,10000], 'c':[1,2,3,4]})"
   ]
  },
  {
   "cell_type": "code",
   "execution_count": 228,
   "metadata": {},
   "outputs": [],
   "source": [
    "import pandas as pd\n",
    "\n",
    "def replace_missing(df, replace_method = 'mean'):\n",
    "    \"\"\"\n",
    "    Given a DataFrame, df, any fields that are null (represented in Pandas\n",
    "    with NaN) will be replaced using the method specified in replace_method.\n",
    "\n",
    "    Parameters\n",
    "    ----------\n",
    "    df: (Pandas DataFrame).\n",
    "\n",
    "    replace_method: (variable type) 'mean', 'median', 0, -1, 9999999, etc.\n",
    "        If 'mean'/'median': replace each missing value with the mean/median\n",
    "                            value of its column.\n",
    "        If other: any other value will be taken to be a replacement *value*\n",
    "                  and inserted for the missing values.\n",
    "\n",
    "    Returns\n",
    "    -------\n",
    "    df: (Pandas DataFrame)\n",
    "    \"\"\"\n",
    "    df_nan = df.copy()\n",
    "    for column in df_nan:\n",
    "        df_nan[column] = pd.to_numeric(df_nan[column], errors = 'coerce')\n",
    "    if (replace_method == 'mean' or replace_method == 'median'):\n",
    "#        values = {}\n",
    "        if replace_method == 'mean':\n",
    "            values = {ke: va for (k, v) in df_nan}\n",
    "#            for column in df_nan:\n",
    "#                values[column] = df_nan[column].mean()\n",
    "#            {key: value for (k, v) in df_nan}\n",
    "        else:\n",
    "            for column in df_nan:\n",
    "                values[column] = df_nan[column].median()\n",
    "        df_nan = df_nan.fillna(value=values, inplace=True)\n",
    "        return df_nan\n",
    "    else:\n",
    "        df_nan.fillna(replace_method, inplace=True)\n",
    "    return df_nan"
   ]
  },
  {
   "cell_type": "code",
   "execution_count": 230,
   "metadata": {},
   "outputs": [],
   "source": [
    "df = pd.DataFrame({'a':[0,10,None,30], 'b':[None,100,1000,10000], 'c':[1,2,3,4]})"
   ]
  },
  {
   "cell_type": "code",
   "execution_count": 235,
   "metadata": {},
   "outputs": [],
   "source": [
    "import pandas as pd\n",
    "\n",
    "def replace_missing(df, replace_method = 'mean'):\n",
    "    \"\"\"\n",
    "    Given a DataFrame, df, any fields that are null (represented in Pandas\n",
    "    with NaN) will be replaced using the method specified in replace_method.\n",
    "\n",
    "    Parameters\n",
    "    ----------\n",
    "    df: (Pandas DataFrame).\n",
    "\n",
    "    replace_method: (variable type) 'mean', 'median', 0, -1, 9999999, etc.\n",
    "        If 'mean'/'median': replace each missing value with the mean/median\n",
    "                            value of its column.\n",
    "        If other: any other value will be taken to be a replacement *value*\n",
    "                  and inserted for the missing values.\n",
    "\n",
    "    Returns\n",
    "    -------\n",
    "    df: (Pandas DataFrame)\n",
    "    \"\"\"\n",
    "    df_nan = df.copy()\n",
    "    for column in df_nan:\n",
    "        df_nan[column] = pd.to_numeric(df_nan[column], errors = 'coerce')\n",
    "    if (replace_method == 'mean' or replace_method == 'median'):\n",
    "        if replace_method == 'mean':\n",
    "            df_nan.fillna(df_nan.mean(), inplace=True)\n",
    "        else:\n",
    "            df_nan.fillna(df_nan.median(), inplace=True)\n",
    "        return df_nan\n",
    "    else:\n",
    "        df_nan.fillna(replace_method, inplace=True)\n",
    "    return df_nan"
   ]
  },
  {
   "cell_type": "code",
   "execution_count": 236,
   "metadata": {},
   "outputs": [
    {
     "data": {
      "text/html": [
       "<div>\n",
       "<style scoped>\n",
       "    .dataframe tbody tr th:only-of-type {\n",
       "        vertical-align: middle;\n",
       "    }\n",
       "\n",
       "    .dataframe tbody tr th {\n",
       "        vertical-align: top;\n",
       "    }\n",
       "\n",
       "    .dataframe thead th {\n",
       "        text-align: right;\n",
       "    }\n",
       "</style>\n",
       "<table border=\"1\" class=\"dataframe\">\n",
       "  <thead>\n",
       "    <tr style=\"text-align: right;\">\n",
       "      <th></th>\n",
       "      <th>a</th>\n",
       "      <th>b</th>\n",
       "      <th>c</th>\n",
       "    </tr>\n",
       "  </thead>\n",
       "  <tbody>\n",
       "    <tr>\n",
       "      <th>0</th>\n",
       "      <td>0.000000</td>\n",
       "      <td>3700.0</td>\n",
       "      <td>1</td>\n",
       "    </tr>\n",
       "    <tr>\n",
       "      <th>1</th>\n",
       "      <td>10.000000</td>\n",
       "      <td>100.0</td>\n",
       "      <td>2</td>\n",
       "    </tr>\n",
       "    <tr>\n",
       "      <th>2</th>\n",
       "      <td>13.333333</td>\n",
       "      <td>1000.0</td>\n",
       "      <td>3</td>\n",
       "    </tr>\n",
       "    <tr>\n",
       "      <th>3</th>\n",
       "      <td>30.000000</td>\n",
       "      <td>10000.0</td>\n",
       "      <td>4</td>\n",
       "    </tr>\n",
       "  </tbody>\n",
       "</table>\n",
       "</div>"
      ],
      "text/plain": [
       "           a        b  c\n",
       "0   0.000000   3700.0  1\n",
       "1  10.000000    100.0  2\n",
       "2  13.333333   1000.0  3\n",
       "3  30.000000  10000.0  4"
      ]
     },
     "execution_count": 236,
     "metadata": {},
     "output_type": "execute_result"
    }
   ],
   "source": [
    "replace_missing(df)"
   ]
  },
  {
   "cell_type": "code",
   "execution_count": 237,
   "metadata": {},
   "outputs": [
    {
     "data": {
      "text/html": [
       "<div>\n",
       "<style scoped>\n",
       "    .dataframe tbody tr th:only-of-type {\n",
       "        vertical-align: middle;\n",
       "    }\n",
       "\n",
       "    .dataframe tbody tr th {\n",
       "        vertical-align: top;\n",
       "    }\n",
       "\n",
       "    .dataframe thead th {\n",
       "        text-align: right;\n",
       "    }\n",
       "</style>\n",
       "<table border=\"1\" class=\"dataframe\">\n",
       "  <thead>\n",
       "    <tr style=\"text-align: right;\">\n",
       "      <th></th>\n",
       "      <th>a</th>\n",
       "      <th>b</th>\n",
       "      <th>c</th>\n",
       "    </tr>\n",
       "  </thead>\n",
       "  <tbody>\n",
       "    <tr>\n",
       "      <th>0</th>\n",
       "      <td>0.0</td>\n",
       "      <td>1000.0</td>\n",
       "      <td>1</td>\n",
       "    </tr>\n",
       "    <tr>\n",
       "      <th>1</th>\n",
       "      <td>10.0</td>\n",
       "      <td>100.0</td>\n",
       "      <td>2</td>\n",
       "    </tr>\n",
       "    <tr>\n",
       "      <th>2</th>\n",
       "      <td>10.0</td>\n",
       "      <td>1000.0</td>\n",
       "      <td>3</td>\n",
       "    </tr>\n",
       "    <tr>\n",
       "      <th>3</th>\n",
       "      <td>30.0</td>\n",
       "      <td>10000.0</td>\n",
       "      <td>4</td>\n",
       "    </tr>\n",
       "  </tbody>\n",
       "</table>\n",
       "</div>"
      ],
      "text/plain": [
       "      a        b  c\n",
       "0   0.0   1000.0  1\n",
       "1  10.0    100.0  2\n",
       "2  10.0   1000.0  3\n",
       "3  30.0  10000.0  4"
      ]
     },
     "execution_count": 237,
     "metadata": {},
     "output_type": "execute_result"
    }
   ],
   "source": [
    "replace_missing(df, replace_method = 'median')"
   ]
  },
  {
   "cell_type": "code",
   "execution_count": 238,
   "metadata": {},
   "outputs": [
    {
     "data": {
      "text/html": [
       "<div>\n",
       "<style scoped>\n",
       "    .dataframe tbody tr th:only-of-type {\n",
       "        vertical-align: middle;\n",
       "    }\n",
       "\n",
       "    .dataframe tbody tr th {\n",
       "        vertical-align: top;\n",
       "    }\n",
       "\n",
       "    .dataframe thead th {\n",
       "        text-align: right;\n",
       "    }\n",
       "</style>\n",
       "<table border=\"1\" class=\"dataframe\">\n",
       "  <thead>\n",
       "    <tr style=\"text-align: right;\">\n",
       "      <th></th>\n",
       "      <th>a</th>\n",
       "      <th>b</th>\n",
       "      <th>c</th>\n",
       "    </tr>\n",
       "  </thead>\n",
       "  <tbody>\n",
       "    <tr>\n",
       "      <th>0</th>\n",
       "      <td>0.0</td>\n",
       "      <td>-999.0</td>\n",
       "      <td>1</td>\n",
       "    </tr>\n",
       "    <tr>\n",
       "      <th>1</th>\n",
       "      <td>10.0</td>\n",
       "      <td>100.0</td>\n",
       "      <td>2</td>\n",
       "    </tr>\n",
       "    <tr>\n",
       "      <th>2</th>\n",
       "      <td>-999.0</td>\n",
       "      <td>1000.0</td>\n",
       "      <td>3</td>\n",
       "    </tr>\n",
       "    <tr>\n",
       "      <th>3</th>\n",
       "      <td>30.0</td>\n",
       "      <td>10000.0</td>\n",
       "      <td>4</td>\n",
       "    </tr>\n",
       "  </tbody>\n",
       "</table>\n",
       "</div>"
      ],
      "text/plain": [
       "       a        b  c\n",
       "0    0.0   -999.0  1\n",
       "1   10.0    100.0  2\n",
       "2 -999.0   1000.0  3\n",
       "3   30.0  10000.0  4"
      ]
     },
     "execution_count": 238,
     "metadata": {},
     "output_type": "execute_result"
    }
   ],
   "source": [
    "replace_missing(df, replace_method = -999)"
   ]
  },
  {
   "cell_type": "code",
   "execution_count": 239,
   "metadata": {},
   "outputs": [
    {
     "data": {
      "text/html": [
       "<div>\n",
       "<style scoped>\n",
       "    .dataframe tbody tr th:only-of-type {\n",
       "        vertical-align: middle;\n",
       "    }\n",
       "\n",
       "    .dataframe tbody tr th {\n",
       "        vertical-align: top;\n",
       "    }\n",
       "\n",
       "    .dataframe thead th {\n",
       "        text-align: right;\n",
       "    }\n",
       "</style>\n",
       "<table border=\"1\" class=\"dataframe\">\n",
       "  <thead>\n",
       "    <tr style=\"text-align: right;\">\n",
       "      <th></th>\n",
       "      <th>a</th>\n",
       "      <th>b</th>\n",
       "      <th>c</th>\n",
       "    </tr>\n",
       "  </thead>\n",
       "  <tbody>\n",
       "    <tr>\n",
       "      <th>0</th>\n",
       "      <td>0.0</td>\n",
       "      <td>NaN</td>\n",
       "      <td>1</td>\n",
       "    </tr>\n",
       "    <tr>\n",
       "      <th>1</th>\n",
       "      <td>10.0</td>\n",
       "      <td>100.0</td>\n",
       "      <td>2</td>\n",
       "    </tr>\n",
       "    <tr>\n",
       "      <th>2</th>\n",
       "      <td>NaN</td>\n",
       "      <td>1000.0</td>\n",
       "      <td>3</td>\n",
       "    </tr>\n",
       "    <tr>\n",
       "      <th>3</th>\n",
       "      <td>30.0</td>\n",
       "      <td>10000.0</td>\n",
       "      <td>4</td>\n",
       "    </tr>\n",
       "  </tbody>\n",
       "</table>\n",
       "</div>"
      ],
      "text/plain": [
       "      a        b  c\n",
       "0   0.0      NaN  1\n",
       "1  10.0    100.0  2\n",
       "2   NaN   1000.0  3\n",
       "3  30.0  10000.0  4"
      ]
     },
     "execution_count": 239,
     "metadata": {},
     "output_type": "execute_result"
    }
   ],
   "source": [
    "df = pd.DataFrame({'a':[0,10,None,30], 'b':[None,100,1000,10000], 'c':[1,2,3,4]})\n",
    "df"
   ]
  },
  {
   "cell_type": "code",
   "execution_count": 240,
   "metadata": {},
   "outputs": [
    {
     "data": {
      "text/plain": [
       "2.302585092994046"
      ]
     },
     "execution_count": 240,
     "metadata": {},
     "output_type": "execute_result"
    }
   ],
   "source": [
    "np.log(10)"
   ]
  },
  {
   "cell_type": "code",
   "execution_count": 241,
   "metadata": {},
   "outputs": [
    {
     "data": {
      "text/plain": [
       "0.6931471805599453"
      ]
     },
     "execution_count": 241,
     "metadata": {},
     "output_type": "execute_result"
    }
   ],
   "source": [
    "np.log(2)"
   ]
  },
  {
   "cell_type": "code",
   "execution_count": 242,
   "metadata": {},
   "outputs": [
    {
     "data": {
      "text/plain": [
       "1.6094379124341005"
      ]
     },
     "execution_count": 242,
     "metadata": {},
     "output_type": "execute_result"
    }
   ],
   "source": [
    "np.log(10)-np.log(2)"
   ]
  },
  {
   "cell_type": "code",
   "execution_count": 243,
   "metadata": {},
   "outputs": [],
   "source": [
    "import numpy as np"
   ]
  },
  {
   "cell_type": "code",
   "execution_count": 244,
   "metadata": {},
   "outputs": [],
   "source": [
    "A = np.array([[ 8,  1, -7], [-2, -8,  5], [-5, -5, -8]])\n",
    "b = np.array([[-71], [ 25], [-51]])"
   ]
  },
  {
   "cell_type": "code",
   "execution_count": 247,
   "metadata": {},
   "outputs": [],
   "source": [
    "Ainv = np.linalg.inv(A)"
   ]
  },
  {
   "cell_type": "code",
   "execution_count": 248,
   "metadata": {},
   "outputs": [
    {
     "data": {
      "text/plain": [
       "array([[ 0.80817253,  0.04880817,  0.40522134],\n",
       "       [ 0.09307605,  0.89897843, -0.14755959],\n",
       "       [ 0.17026107, -0.19863791,  0.56299659]])"
      ]
     },
     "execution_count": 248,
     "metadata": {},
     "output_type": "execute_result"
    }
   ],
   "source": [
    "Ainv * A"
   ]
  },
  {
   "cell_type": "code",
   "execution_count": 249,
   "metadata": {},
   "outputs": [
    {
     "data": {
      "text/plain": [
       "array([[ 1.00000000e+00,  0.00000000e+00,  0.00000000e+00],\n",
       "       [ 0.00000000e+00,  1.00000000e+00, -5.55111512e-17],\n",
       "       [ 0.00000000e+00,  5.55111512e-17,  1.00000000e+00]])"
      ]
     },
     "execution_count": 249,
     "metadata": {},
     "output_type": "execute_result"
    }
   ],
   "source": [
    "np.matmul(A, Ainv)"
   ]
  },
  {
   "cell_type": "code",
   "execution_count": 250,
   "metadata": {},
   "outputs": [
    {
     "data": {
      "text/plain": [
       "array([[ 1.00000000e+00, -1.11022302e-16,  5.55111512e-17],\n",
       "       [ 0.00000000e+00,  1.00000000e+00, -1.38777878e-16],\n",
       "       [ 0.00000000e+00,  0.00000000e+00,  1.00000000e+00]])"
      ]
     },
     "execution_count": 250,
     "metadata": {},
     "output_type": "execute_result"
    }
   ],
   "source": [
    "np.matmul(Ainv, A)"
   ]
  },
  {
   "cell_type": "code",
   "execution_count": 251,
   "metadata": {},
   "outputs": [
    {
     "data": {
      "text/plain": [
       "array([[-3.],\n",
       "       [ 2.],\n",
       "       [ 7.]])"
      ]
     },
     "execution_count": 251,
     "metadata": {},
     "output_type": "execute_result"
    }
   ],
   "source": [
    "np.matmul(Ainv, b)"
   ]
  },
  {
   "cell_type": "code",
   "execution_count": 252,
   "metadata": {},
   "outputs": [
    {
     "data": {
      "text/plain": [
       "5.70087712549569"
      ]
     },
     "execution_count": 252,
     "metadata": {},
     "output_type": "execute_result"
    }
   ],
   "source": [
    "(2**.5) * (16.25**.5)"
   ]
  },
  {
   "cell_type": "code",
   "execution_count": 259,
   "metadata": {},
   "outputs": [],
   "source": [
    "B = np.array([[ -5,  3, -1], [-3, 6,  -1], [-1, -7, 3]])\n",
    "c = np.array([[-10], [18], [-38]])\n"
   ]
  },
  {
   "cell_type": "code",
   "execution_count": 254,
   "metadata": {},
   "outputs": [],
   "source": [
    "\n",
    "def format_matrix_string(mat):\n",
    "    \"\"\"\n",
    "    Convert a NumPy matrix/array to a string where rows are separated by the\n",
    "    newline character '\\n'.\n",
    "    INPUT: mat: NumPy array\n",
    "    OUTPUT: str\n",
    "    \"\"\"\n",
    "    rowstrs = [', '.join(row) for row in np.round(mat, 2).astype(str)]\n",
    "    return ' \\n '.join(rowstrs)"
   ]
  },
  {
   "cell_type": "code",
   "execution_count": 255,
   "metadata": {},
   "outputs": [
    {
     "data": {
      "text/plain": [
       "'-5, 3, -1 \\n -3, 6, -1 \\n -1, -7, 3'"
      ]
     },
     "execution_count": 255,
     "metadata": {},
     "output_type": "execute_result"
    }
   ],
   "source": [
    "format_matrix_string(B)"
   ]
  },
  {
   "cell_type": "code",
   "execution_count": 256,
   "metadata": {},
   "outputs": [
    {
     "data": {
      "text/plain": [
       "array([[-0.21153846,  0.03846154, -0.05769231],\n",
       "       [-0.19230769,  0.30769231,  0.03846154],\n",
       "       [-0.51923077,  0.73076923,  0.40384615]])"
      ]
     },
     "execution_count": 256,
     "metadata": {},
     "output_type": "execute_result"
    }
   ],
   "source": [
    "Binv = np.linalg.inv(B)\n",
    "Binv"
   ]
  },
  {
   "cell_type": "code",
   "execution_count": 257,
   "metadata": {},
   "outputs": [
    {
     "data": {
      "text/plain": [
       "'-0.21, 0.04, -0.06 \\n -0.19, 0.31, 0.04 \\n -0.52, 0.73, 0.4'"
      ]
     },
     "execution_count": 257,
     "metadata": {},
     "output_type": "execute_result"
    }
   ],
   "source": [
    "format_matrix_string(Binv)\n"
   ]
  },
  {
   "cell_type": "code",
   "execution_count": 260,
   "metadata": {},
   "outputs": [
    {
     "data": {
      "text/plain": [
       "array([[5.],\n",
       "       [6.],\n",
       "       [3.]])"
      ]
     },
     "execution_count": 260,
     "metadata": {},
     "output_type": "execute_result"
    }
   ],
   "source": [
    "Binv.dot(c)"
   ]
  },
  {
   "cell_type": "code",
   "execution_count": 261,
   "metadata": {},
   "outputs": [
    {
     "data": {
      "text/plain": [
       "array([[5.],\n",
       "       [6.],\n",
       "       [3.]])"
      ]
     },
     "execution_count": 261,
     "metadata": {},
     "output_type": "execute_result"
    }
   ],
   "source": [
    "np.matmul(Binv, c)"
   ]
  },
  {
   "cell_type": "code",
   "execution_count": 262,
   "metadata": {},
   "outputs": [
    {
     "data": {
      "text/plain": [
       "20.566963801203133"
      ]
     },
     "execution_count": 262,
     "metadata": {},
     "output_type": "execute_result"
    }
   ],
   "source": [
    "P = np.array([8, -3, 8, 5, -5])\n",
    "Q = np.array([-4, 8, 7, -1, 6])\n",
    "distance = np.linalg.norm(P - Q)\n",
    "distance"
   ]
  },
  {
   "cell_type": "markdown",
   "metadata": {},
   "source": [
    "p=[8−385−5]\n",
    "q=[−487−16]"
   ]
  },
  {
   "cell_type": "code",
   "execution_count": 263,
   "metadata": {},
   "outputs": [
    {
     "data": {
      "text/plain": [
       "13.674794331177344"
      ]
     },
     "execution_count": 263,
     "metadata": {},
     "output_type": "execute_result"
    }
   ],
   "source": [
    "p=(64+9+64+50)**.5\n",
    "p"
   ]
  },
  {
   "cell_type": "code",
   "execution_count": 264,
   "metadata": {},
   "outputs": [
    {
     "data": {
      "text/plain": [
       "12.884098726725126"
      ]
     },
     "execution_count": 264,
     "metadata": {},
     "output_type": "execute_result"
    }
   ],
   "source": [
    "q=(16+64+49+1+36)**.5\n",
    "q"
   ]
  },
  {
   "cell_type": "code",
   "execution_count": 266,
   "metadata": {},
   "outputs": [
    {
     "data": {
      "text/plain": [
       "176.18740023055"
      ]
     },
     "execution_count": 266,
     "metadata": {},
     "output_type": "execute_result"
    }
   ],
   "source": [
    "a=p*q\n",
    "a"
   ]
  },
  {
   "cell_type": "code",
   "execution_count": 272,
   "metadata": {},
   "outputs": [
    {
     "data": {
      "text/plain": [
       "-35"
      ]
     },
     "execution_count": 272,
     "metadata": {},
     "output_type": "execute_result"
    }
   ],
   "source": [
    "dot = ((-32)+(-24)+56+(-5)+(-30))\n",
    "dot"
   ]
  },
  {
   "cell_type": "code",
   "execution_count": 273,
   "metadata": {},
   "outputs": [
    {
     "data": {
      "text/plain": [
       "-0.19865211674728586"
      ]
     },
     "execution_count": 273,
     "metadata": {},
     "output_type": "execute_result"
    }
   ],
   "source": [
    "dot/a"
   ]
  },
  {
   "cell_type": "code",
   "execution_count": 269,
   "metadata": {},
   "outputs": [
    {
     "data": {
      "text/plain": [
       "176.18740023055"
      ]
     },
     "execution_count": 269,
     "metadata": {},
     "output_type": "execute_result"
    }
   ],
   "source": [
    "np.linalg.norm(P)*np.linalg.norm(Q)"
   ]
  },
  {
   "cell_type": "code",
   "execution_count": 270,
   "metadata": {},
   "outputs": [
    {
     "data": {
      "text/plain": [
       "-35"
      ]
     },
     "execution_count": 270,
     "metadata": {},
     "output_type": "execute_result"
    }
   ],
   "source": [
    "P.dot(Q)"
   ]
  },
  {
   "cell_type": "code",
   "execution_count": 271,
   "metadata": {},
   "outputs": [
    {
     "data": {
      "text/plain": [
       "-35"
      ]
     },
     "execution_count": 271,
     "metadata": {},
     "output_type": "execute_result"
    }
   ],
   "source": [
    "Q.dot(P)"
   ]
  },
  {
   "cell_type": "code",
   "execution_count": 274,
   "metadata": {},
   "outputs": [
    {
     "data": {
      "text/plain": [
       "-0.19865211674728586"
      ]
     },
     "execution_count": 274,
     "metadata": {},
     "output_type": "execute_result"
    }
   ],
   "source": [
    "P.dot(Q)/(np.linalg.norm(P)*np.linalg.norm(Q))"
   ]
  },
  {
   "cell_type": "code",
   "execution_count": 276,
   "metadata": {},
   "outputs": [
    {
     "name": "stdout",
     "output_type": "stream",
     "text": [
      "[[-2]\n",
      " [ 0]\n",
      " [ 1]]\n",
      "[[  5   8  16]\n",
      " [  4   1   8]\n",
      " [ -4  -4 -11]]\n"
     ]
    }
   ],
   "source": [
    "v = np.array([[-2], [0], [1]])\n",
    "a = np.array([[5, 8, 16], [4, 1, 8], [-4, -4, -11]])\n",
    "print(v)\n",
    "print(a)"
   ]
  },
  {
   "cell_type": "code",
   "execution_count": 280,
   "metadata": {},
   "outputs": [
    {
     "data": {
      "text/plain": [
       "array([[ 6],\n",
       "       [ 0],\n",
       "       [-3]])"
      ]
     },
     "execution_count": 280,
     "metadata": {},
     "output_type": "execute_result"
    }
   ],
   "source": [
    "a.dot(v)"
   ]
  },
  {
   "cell_type": "code",
   "execution_count": 281,
   "metadata": {},
   "outputs": [
    {
     "data": {
      "text/plain": [
       "array([[ 6],\n",
       "       [ 0],\n",
       "       [-3]])"
      ]
     },
     "execution_count": 281,
     "metadata": {},
     "output_type": "execute_result"
    }
   ],
   "source": [
    "np.matmul(a, v)"
   ]
  },
  {
   "cell_type": "code",
   "execution_count": 286,
   "metadata": {},
   "outputs": [],
   "source": [
    "eigenvals, eigenvects = np.linalg.eig(a)"
   ]
  },
  {
   "cell_type": "code",
   "execution_count": 284,
   "metadata": {},
   "outputs": [
    {
     "name": "stdout",
     "output_type": "stream",
     "text": [
      "[ 1.+0.00000000e+00j -3.+2.71947991e-15j -3.-2.71947991e-15j]\n",
      "[[ 0.81649658+0.j          0.14036888-0.55580947j  0.14036888+0.55580947j]\n",
      " [ 0.40824829+0.j         -0.71521317+0.j         -0.71521317-0.j        ]\n",
      " [-0.40824829+0.j          0.28742215+0.27790473j  0.28742215-0.27790473j]]\n"
     ]
    }
   ],
   "source": [
    "print(eigenvals)\n",
    "print(eigenvects)"
   ]
  },
  {
   "cell_type": "code",
   "execution_count": null,
   "metadata": {},
   "outputs": [],
   "source": [
    "import numpy as np\n",
    "a = np.array([[3,1], [0,2]])  # establish a\n",
    "a.dot(np.array([1,0]))  # check v1\n",
    "array([3, 0])  # looks like 3 times v1, so v1 is in\n",
    "a.dot(np.array([np.sqrt(3)/2, 0.5]))  # check v2\n",
    "array([3.09807621, 1.        ])  # ok, so 1 is clearly twice 0.5, so is 3.098 twice sqrt(3)/2?\n",
    "np.sqrt(3)\n",
    "1.7320508075688772  # guess not! v2 is out\n",
    "a.dot(np.array([-np.sqrt(2)/2, np.sqrt(2)/2]))  # check v3\n",
    "array([-1.41421356,  1.41421356])  # still symmetric values where the first one is negative, so there exists some scalar for this vector that works as lambda, so this is an eigenvector; v3 is in\n",
    "#  So, v1 and v3 are in, v2 is out."
   ]
  }
 ],
 "metadata": {
  "kernelspec": {
   "display_name": "Python 3",
   "language": "python",
   "name": "python3"
  },
  "language_info": {
   "codemirror_mode": {
    "name": "ipython",
    "version": 3
   },
   "file_extension": ".py",
   "mimetype": "text/x-python",
   "name": "python",
   "nbconvert_exporter": "python",
   "pygments_lexer": "ipython3",
   "version": "3.6.6"
  }
 },
 "nbformat": 4,
 "nbformat_minor": 2
}
